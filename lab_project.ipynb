{
 "cells": [
  {
   "cell_type": "markdown",
   "id": "a6392c82-a268-4a48-9b8b-c7a2b35a2a48",
   "metadata": {},
   "source": [
    "# Proyecto Lab Python\n",
    "\n",
    "**Objetivo:** \n",
    "\n",
    "Desarrollar un sistema que, dado un conjunto de envios, los asigne a los transportistas, minimizando la distancia recorrida por todo los transportistas.\n",
    "\n",
    "**Metodología**\n",
    "\n",
    "Se busca implementar una heuristica de busqueda local iterativa la cual consiste en:\n",
    "\n",
    "1. Generar una solución aleatoria.\n",
    "2. Seleccionar el *mejor vecino* de la solución.\n",
    "3. El *mejor vechino* pasa a ser nuestra nueva solución.\n",
    "4. Repetir el paso 2 y 3 hasta que no se encuentre un *mejor vecino*.\n",
    "5. Guardar la solución encontrada.\n",
    "6. Repetir desde el paso 1 las veces establecidas.\n",
    "7. Seleccionar la mejor solución encontrada.\n",
    "\n",
    "**Clases auxiliares**\n",
    "\n",
    "`distance_matrix`\n",
    "\n",
    "Calcula y almacena todas las distancias (distancia euclideana) entre cualesquiera dos envios.\n",
    "\n",
    "`route`\n",
    "\n",
    "Representa la *hoja de ruta* de un transportista, contiene todos los envios de la *hoja de ruta* así como también el envío que suma más distancia de la misma, esta clase permite:\n",
    "\n",
    "* Agregar un envío a la *hoja de ruta*.\n",
    "* Eliminar un envío de la *hoja de ruta*.\n",
    "* Reiniciar la *hoja de ruta* a su estado inicial. \n",
    "\n",
    "`solution`\n",
    "\n",
    "Almacena todas las *hojas de ruta* para cada transportista, así como el costo (distancia total) de la solución, ademas de generar todos los posibles vecinos, definiendo un vecino como la misma solución y \"para alguna ruta, eliminar el envío que sume más distancia y agregarlo a alguna otra ruta\".\n",
    "\n",
    "----------------"
   ]
  },
  {
   "cell_type": "code",
   "execution_count": 1,
   "id": "6fcdebb1-ba19-4947-9c60-e7eb3a068cd6",
   "metadata": {},
   "outputs": [],
   "source": [
    "from protocol import protocol"
   ]
  },
  {
   "cell_type": "code",
   "execution_count": null,
   "id": "257c309f-745c-4bf4-b4ce-3618c61b4260",
   "metadata": {},
   "outputs": [],
   "source": [
    "Protocol = protocol(\"data/shipments.dat\")\n",
    "\n",
    "Protocol.iterative_local_search(iterations = 1000)\n",
    "\n",
    "Protocol.show_best_solution()"
   ]
  },
  {
   "cell_type": "markdown",
   "id": "c06449b4-62bc-49db-9208-037f79164fd6",
   "metadata": {},
   "source": [
    "-------\n",
    "\n",
    "Ejemplo de mejor solución:\n",
    "\n",
    "Total distance: 1000\n",
    "\n",
    "* Route_1 : \n",
    "    * Total shipments : 3\n",
    "    * Distance : 600\n",
    "    \n",
    "* Route_2 : \n",
    "    * Total shipments : 3\n",
    "    * Distance : 400"
   ]
  }
 ],
 "metadata": {
  "kernelspec": {
   "display_name": "Python 3 (ipykernel)",
   "language": "python",
   "name": "python3"
  },
  "language_info": {
   "codemirror_mode": {
    "name": "ipython",
    "version": 3
   },
   "file_extension": ".py",
   "mimetype": "text/x-python",
   "name": "python",
   "nbconvert_exporter": "python",
   "pygments_lexer": "ipython3",
   "version": "3.9.7"
  }
 },
 "nbformat": 4,
 "nbformat_minor": 5
}
