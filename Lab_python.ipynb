{
 "cells": [
  {
   "cell_type": "markdown",
   "id": "4ba8d27a-170d-43d8-860c-211e5b3708b7",
   "metadata": {
    "tags": []
   },
   "source": [
    "# Laboratorio de Python\n",
    "\n",
    "Temario:\n",
    "\n",
    "* Tipos de datos\n",
    "    * Básicos o atómicos\n",
    "    * Estructuras complejas\n",
    "    * Creación de clases\n",
    "* Estructuras de control\n",
    "    * Condicionales\n",
    "    * Ciclos\n",
    "* Manejo de excepciones\n",
    "* Funciones\n",
    "    * Creación de funciones\n",
    "    * Testing de funciones\n",
    "* Análisis de complejidad\n",
    "* Orden de una función\n",
    "* Espacios de nombres \n",
    "\n",
    "--------------------------------------------------------\n",
    "\n",
    "## Tipos de datos\n",
    "\n",
    "### Datos Básicos\n",
    "\n",
    "También conocidos como datos atómicos pues son las estructuras más simples dentro de un lenguaje de programación, en python tenemos:\n",
    "\n",
    "* Booleanos (lógicos)\n",
    "* Enteros\n",
    "* Float\n",
    "\n",
    "### Estructuras complejas\n",
    "\n",
    "También llamadas clases son tipos de datos con una estructura definida, poseen:\n",
    "\n",
    "* Atributos: Datos (básicos o complejos) propios de la clase.\n",
    "* Métodos: Funciones que actuan sobre la clase o que permiten la interacción de la clase con otras clases.\n",
    "\n",
    "Algunas estructuras complejas propias enpython son:\n",
    "\n",
    "* Textos (strings)\n",
    "* Tuplas\n",
    "* Listas\n",
    "* Diccionarios\n",
    "* Conjuntos\n",
    "\n",
    "### Creación de clases\n",
    "\n",
    "Supongamos que queremos hacer nuestra propia clase lista:"
   ]
  },
  {
   "cell_type": "code",
   "execution_count": 1,
   "id": "1ee64600-eff0-47ef-8a7a-fe121f1744b8",
   "metadata": {},
   "outputs": [
    {
     "data": {
      "text/plain": [
       "__main__.lista"
      ]
     },
     "execution_count": 1,
     "metadata": {},
     "output_type": "execute_result"
    }
   ],
   "source": [
    "class lista:\n",
    "    \n",
    "    pass\n",
    "\n",
    "lista"
   ]
  },
  {
   "cell_type": "code",
   "execution_count": 2,
   "id": "23d14752-f7c8-44c3-adbc-4b90e7b79c80",
   "metadata": {},
   "outputs": [],
   "source": [
    "foo = lista()"
   ]
  },
  {
   "cell_type": "code",
   "execution_count": 3,
   "id": "3964a223-854a-4f29-8956-2e9d9a222225",
   "metadata": {},
   "outputs": [
    {
     "data": {
      "text/plain": [
       "<__main__.lista at 0x24079b25280>"
      ]
     },
     "execution_count": 3,
     "metadata": {},
     "output_type": "execute_result"
    }
   ],
   "source": [
    "foo"
   ]
  },
  {
   "cell_type": "markdown",
   "id": "f649c477-3650-444b-91e8-ccfe6326fe08",
   "metadata": {},
   "source": [
    "Una clase tiene diferentes métodos reservados para funcionalidades especificas, el más importante es `__init__`, llamado constructor, define las instrucciones al instanciar la clase, otros métodos reservados son:\n",
    "\n",
    "* `__repr__`: Define que se devuelve cuando se llama a la instancia. \n",
    "* `__str__`: Define que se muestra cuando la instancia es convertida en texto.\n",
    "* `__eq__`: Define la igualdad entre una dos instancias de la clase.\n",
    "* `__iter__`: Define como se itera sobre el objeto.\n",
    "* `__add__`: Define la suma entre dos instancias de la clase."
   ]
  },
  {
   "cell_type": "code",
   "execution_count": 8,
   "id": "8ab6ef59-63fe-46e3-bdf4-8bb8765ef94d",
   "metadata": {},
   "outputs": [
    {
     "data": {
      "text/plain": [
       "__main__.lista"
      ]
     },
     "execution_count": 8,
     "metadata": {},
     "output_type": "execute_result"
    }
   ],
   "source": [
    "class lista:\n",
    "    \n",
    "    def __init__(self, *argv):\n",
    "        for i in argv:\n",
    "            self._save_val_(i)\n",
    "            \n",
    "    def append(self, value):\n",
    "        self._save_val_(value)\n",
    "        \n",
    "    def _save_val_(self, value):\n",
    "        value_name = \"_value_{}_{}\"\n",
    "        ready = False\n",
    "        i = -1 \n",
    "        while not ready:\n",
    "            i += 1\n",
    "            ready = not value_name.format(value, i) in dir(self)\n",
    "        setattr(self, value_name.format(value, i), value)            \n",
    "            \n",
    "    def __repr__(self):\n",
    "        text = \"\"\n",
    "        for i in dir(self):\n",
    "            if \"_value_\" in i:\n",
    "                text += f\"{self.__dict__[i]}, \"\n",
    "        text = text[:-2]\n",
    "        return f\"[{text}]\"\n",
    "    \n",
    "    def __iter__(self):\n",
    "        for i in dir(self):\n",
    "            if \"_value_\" in i:\n",
    "                yield self.__dict__[i]\n",
    "                \n",
    "    def __contains__(self, value):\n",
    "        for i in dir(self):\n",
    "            if \"_value_\" in i and self.__dict__[i] == value:\n",
    "                return True\n",
    "        return False\n",
    "                \n",
    "lista"
   ]
  },
  {
   "cell_type": "code",
   "execution_count": 5,
   "id": "10dabd06-5f51-4e55-b93d-71fc51f04856",
   "metadata": {},
   "outputs": [
    {
     "data": {
      "text/plain": [
       "[1, 2, 3]"
      ]
     },
     "execution_count": 5,
     "metadata": {},
     "output_type": "execute_result"
    }
   ],
   "source": [
    "foo = lista(1,2,3)\n",
    "foo"
   ]
  },
  {
   "cell_type": "code",
   "execution_count": 7,
   "id": "a5b031dd-61ad-42f5-9e0e-5c6ec6565c33",
   "metadata": {},
   "outputs": [
    {
     "data": {
      "text/plain": [
       "[1, 2, 3, 4]"
      ]
     },
     "execution_count": 7,
     "metadata": {},
     "output_type": "execute_result"
    }
   ],
   "source": [
    "foo.append(4)\n",
    "foo"
   ]
  },
  {
   "cell_type": "markdown",
   "id": "0879be15-9f65-4397-b5df-8206532a3a86",
   "metadata": {
    "jp-MarkdownHeadingCollapsed": true,
    "tags": []
   },
   "source": [
    "------------\n",
    "\n",
    "## Estructuras de control\n",
    "\n",
    "### Condicionales\n",
    "\n",
    "Nos permiten alterar la secuencia de ejecución en función del estado del programa en un determinado momento\n",
    "\n",
    "**if**"
   ]
  },
  {
   "cell_type": "code",
   "execution_count": 12,
   "id": "a9ef43f3-7bdf-4f68-9640-2987249a4149",
   "metadata": {},
   "outputs": [
    {
     "name": "stdout",
     "output_type": "stream",
     "text": [
      "2 esta en la lista!\n"
     ]
    }
   ],
   "source": [
    "if 5 in foo:\n",
    "    print(\"5 esta en la lista!\")\n",
    "elif 2 in foo:\n",
    "    print(\"2 esta en la lista!\")\n",
    "else:\n",
    "    print(\"ni 2 ni 5 estan en la lista\")"
   ]
  },
  {
   "cell_type": "markdown",
   "id": "4504343f-e0a1-4611-8199-371587d91823",
   "metadata": {},
   "source": [
    "**switch/case** "
   ]
  },
  {
   "cell_type": "code",
   "execution_count": 18,
   "id": "2c3f4300-42d9-49b7-b661-111bab5ce096",
   "metadata": {},
   "outputs": [],
   "source": [
    "switch = {\n",
    "    True : lambda x: x ** 2,\n",
    "    False: lambda x: print(\"no elevo al cuadrado\")\n",
    "}"
   ]
  },
  {
   "cell_type": "code",
   "execution_count": 19,
   "id": "c4f78241-9b69-4e0b-b8ac-e337d579a7da",
   "metadata": {},
   "outputs": [
    {
     "name": "stdout",
     "output_type": "stream",
     "text": [
      "no elevo al cuadrado\n"
     ]
    }
   ],
   "source": [
    "accion = \"no elevar\"\n",
    "switch[accion == \"elevar\"](2)"
   ]
  },
  {
   "cell_type": "code",
   "execution_count": 20,
   "id": "6209c0b9-85ae-45c1-b3fa-60c95008c480",
   "metadata": {},
   "outputs": [
    {
     "data": {
      "text/plain": [
       "4"
      ]
     },
     "execution_count": 20,
     "metadata": {},
     "output_type": "execute_result"
    }
   ],
   "source": [
    "accion = \"elevar\"\n",
    "switch[accion == \"elevar\"](2)"
   ]
  },
  {
   "cell_type": "markdown",
   "id": "7388f1bf-3ad8-460c-b43f-6490073e895a",
   "metadata": {},
   "source": [
    "### Ciclos\n",
    "\n",
    "Nos permiten hacer las mismas acciones, varias veces, de forma consecutiva, mientras se cumpla una accion o iterando por algún elemento.\n",
    "\n",
    "**while**"
   ]
  },
  {
   "cell_type": "code",
   "execution_count": 21,
   "id": "d3e17dd6-59ba-473b-b5f8-f201dc0a8dfa",
   "metadata": {},
   "outputs": [
    {
     "data": {
      "text/plain": [
       "8"
      ]
     },
     "execution_count": 21,
     "metadata": {},
     "output_type": "execute_result"
    }
   ],
   "source": [
    "x = 1\n",
    "ready = x >= 6\n",
    "while not ready:\n",
    "    x += x\n",
    "    ready = x >= 6    \n",
    "x"
   ]
  },
  {
   "cell_type": "markdown",
   "id": "b0b633d8-8e56-4b58-9bf7-6174470d8232",
   "metadata": {},
   "source": [
    "**for**"
   ]
  },
  {
   "cell_type": "code",
   "execution_count": 22,
   "id": "55066c3b-4609-49ac-823f-b12ab9e9ed98",
   "metadata": {},
   "outputs": [
    {
     "data": {
      "text/plain": [
       "10"
      ]
     },
     "execution_count": 22,
     "metadata": {},
     "output_type": "execute_result"
    }
   ],
   "source": [
    "bar = 0\n",
    "for elemento in foo:\n",
    "    bar += elemento\n",
    "bar"
   ]
  },
  {
   "cell_type": "markdown",
   "id": "da790d54-4a50-425d-967c-5e54df8b068a",
   "metadata": {
    "tags": []
   },
   "source": [
    "------------\n",
    "\n",
    "## Manejo de excepciones\n",
    "\n",
    "Sirven para indicarle al programa como comportarse ante algunos errores esperados en los cuales no queremos que el programa falle."
   ]
  },
  {
   "cell_type": "code",
   "execution_count": 26,
   "id": "53c91657-0bce-4532-8345-8588447a98df",
   "metadata": {},
   "outputs": [
    {
     "name": "stdout",
     "output_type": "stream",
     "text": [
      "No se puede dividir entre 0\n"
     ]
    }
   ],
   "source": [
    "numerador = 1\n",
    "denominador = 0\n",
    "try:\n",
    "    solucion = numerador / denominador\n",
    "except ZeroDivisionError:\n",
    "    print(\"No se puede dividir entre 0\")\n",
    "    solucion = None\n",
    "solucion"
   ]
  },
  {
   "cell_type": "code",
   "execution_count": 30,
   "id": "48dcab8e-e7d0-4daa-a4e6-8f532762649d",
   "metadata": {},
   "outputs": [
    {
     "data": {
      "text/plain": [
       "10.5"
      ]
     },
     "execution_count": 30,
     "metadata": {},
     "output_type": "execute_result"
    }
   ],
   "source": [
    "numerador = 1\n",
    "denominador = 2\n",
    "try:\n",
    "    solucion = numerador / denominador\n",
    "except ZeroDivisionError:\n",
    "    print(\"No se puede dividir entre 0\")\n",
    "    solucion = None\n",
    "else:\n",
    "    solucion += 10\n",
    "solucion"
   ]
  },
  {
   "cell_type": "code",
   "execution_count": 32,
   "id": "b345436f-79f7-4f75-aec4-13450c8a65a9",
   "metadata": {},
   "outputs": [
    {
     "name": "stdout",
     "output_type": "stream",
     "text": [
      "No se puede dividir entre 0\n",
      "La solucion es: None\n"
     ]
    }
   ],
   "source": [
    "numerador = 1\n",
    "denominador = 0\n",
    "try:\n",
    "    solucion = numerador / denominador\n",
    "except ZeroDivisionError:\n",
    "    print(\"No se puede dividir entre 0\")\n",
    "    solucion = None\n",
    "else:\n",
    "    solucion += 10\n",
    "finally:\n",
    "    print(f\"La solucion es: {solucion}\")"
   ]
  },
  {
   "cell_type": "code",
   "execution_count": 36,
   "id": "838caa42-e3f1-444f-b9b1-32cb91a8f465",
   "metadata": {},
   "outputs": [
    {
     "name": "stdout",
     "output_type": "stream",
     "text": [
      "Alguno de los datos no es un número\n",
      "La solucion es: 1/0\n"
     ]
    }
   ],
   "source": [
    "numerador = 1\n",
    "denominador = \"0\"\n",
    "try:\n",
    "    solucion = numerador / denominador\n",
    "except ZeroDivisionError:\n",
    "    print(\"No se puede dividir entre 0\")\n",
    "    solucion = None\n",
    "except TypeError:\n",
    "    print(\"Alguno de los datos no es un número\")\n",
    "    solucion = f\"{numerador}/{denominador}\"\n",
    "else:\n",
    "    solucion += 10\n",
    "finally:\n",
    "    print(f\"La solucion es: {solucion}\")"
   ]
  },
  {
   "cell_type": "code",
   "execution_count": 48,
   "id": "3838b221-4f11-4957-af33-9899236da136",
   "metadata": {},
   "outputs": [
    {
     "name": "stdout",
     "output_type": "stream",
     "text": [
      "Error desconocido: name 'a' is not defined\n",
      "La solucion es: None\n"
     ]
    }
   ],
   "source": [
    "numerador = 1\n",
    "denominador = 0\n",
    "try:\n",
    "    solucion = a / b\n",
    "except ZeroDivisionError:\n",
    "    print(\"No se puede dividir entre 0\")\n",
    "    solucion = None\n",
    "except TypeError:\n",
    "    print(\"Alguno de los datos no es numerico\")\n",
    "    solucion = None\n",
    "except Exception as e:\n",
    "    print(f\"Error desconocido: {e}\")\n",
    "    solucion = None\n",
    "else:\n",
    "    solucion += 10\n",
    "finally:\n",
    "    print(f\"La solucion es: {solucion}\")"
   ]
  },
  {
   "cell_type": "markdown",
   "id": "d558570d-4f46-4b89-89ab-38d6863f8113",
   "metadata": {},
   "source": [
    "## Funciones\n",
    "\n",
    "Con las funciones nos ayudan a modularizar los códigos, permitiendo reutilizar código y dividir la dificultad de un programa en partes más sencillas.\n",
    "\n",
    "### Creación de funciones"
   ]
  },
  {
   "cell_type": "code",
   "execution_count": 57,
   "id": "8df46978-5240-48a4-9d70-3c2647da2c9c",
   "metadata": {},
   "outputs": [
    {
     "name": "stdout",
     "output_type": "stream",
     "text": [
      "Parametro obligatorio: 1\n",
      "Parametro con default: None\n",
      "Parametros opcionales sin nombre:\n",
      "| 2 | 3 | \n",
      "Parametros opcionales con nombre:\n",
      "foo: hola\n",
      "bar: mundo\n"
     ]
    }
   ],
   "source": [
    "def foobar(numero1, *argv, numero2 = None, **kwargs):\n",
    "    print(f\"Parametro obligatorio: {numero1}\")\n",
    "    print(f\"Parametro con default: {numero2}\")\n",
    "    print(\"Parametros opcionales sin nombre:\")\n",
    "    text = \"| \"\n",
    "    for i in argv:\n",
    "        text += f\"{i} | \"\n",
    "    print(text)\n",
    "    print(\"Parametros opcionales con nombre:\")\n",
    "    for key, value in kwargs.items():\n",
    "        print(f\"{key}: {value}\")\n",
    "    \n",
    "foobar(1, 2, 3, foo = \"hola\", bar = \"mundo\")"
   ]
  },
  {
   "cell_type": "code",
   "execution_count": 72,
   "id": "42c9e0a8-c3fb-4f58-9a58-cdb1dc21aaa6",
   "metadata": {},
   "outputs": [
    {
     "name": "stdout",
     "output_type": "stream",
     "text": [
      "0\n",
      "1\n",
      "1\n",
      "2\n",
      "3\n",
      "5\n"
     ]
    }
   ],
   "source": [
    "def fibonacci(n):\n",
    "    if n < 0:\n",
    "        return None\n",
    "    if n in [0, 1]:\n",
    "        return n\n",
    "    return fibonacci(n-1) + fibonacci(n-2)\n",
    "\n",
    "for i in range(6):\n",
    "    print(fibonacci(i))"
   ]
  },
  {
   "cell_type": "markdown",
   "id": "ee8d4692-d555-4e5c-9982-73216b8b77f1",
   "metadata": {},
   "source": [
    "### Testing de funciones\n",
    "\n",
    "También llamadas pruebas unitarias, son usadas para probar todos los posibles casos que pueden ser encontrados en una función."
   ]
  },
  {
   "cell_type": "code",
   "execution_count": 83,
   "id": "34f8257c-0c95-4477-9e6c-8ec986233f2b",
   "metadata": {},
   "outputs": [
    {
     "name": "stderr",
     "output_type": "stream",
     "text": [
      "test_casos_base (__main__.test_fibonacci) ... ok\n",
      "test_valores_negativos (__main__.test_fibonacci) ... ok\n",
      "\n",
      "----------------------------------------------------------------------\n",
      "Ran 2 tests in 0.002s\n",
      "\n",
      "OK\n"
     ]
    },
    {
     "data": {
      "text/plain": [
       "<unittest.main.TestProgram at 0x24079c97130>"
      ]
     },
     "execution_count": 83,
     "metadata": {},
     "output_type": "execute_result"
    }
   ],
   "source": [
    "import unittest\n",
    "\n",
    "class test_fibonacci(unittest.TestCase):\n",
    "    \n",
    "    def test_casos_base(self):\n",
    "        self.assertEqual(fibonacci(0), 0)\n",
    "        self.assertEqual(fibonacci(1), 1)\n",
    "    \n",
    "    def test_valores_negativos(self):\n",
    "        self.assertEqual(fibonacci(-1), None)\n",
    "\n",
    "unittest.main(argv=[''], verbosity=2, exit=False)"
   ]
  },
  {
   "cell_type": "markdown",
   "id": "a1dfb942-5ea7-473d-ab10-93265d825b57",
   "metadata": {},
   "source": [
    "Documentación libreria [Unittest](https://docs.python.org/3/library/unittest.html).\n",
    "\n",
    "## Análisis de complejidad\n",
    "\n",
    "Nos ayudan a mantener a las funciones lo más especificas posibles, así como también en su mantenimiento y lectura.\n",
    "\n",
    "En el análisis de complejidad se toman en cuenta los diferentes posibles \"caminos\" que puede tomar una función, así como los ciclos y las excepciones, cada una de las estructuras de control suma 1 punto de complejidad, y si el mismo esta anidado suma 1 punto más por cada nivel anidado.\n",
    "\n",
    "Por ejemplo:"
   ]
  },
  {
   "cell_type": "code",
   "execution_count": null,
   "id": "3cb0e9dc-98d4-464c-8e8c-17a0a023bc8d",
   "metadata": {},
   "outputs": [],
   "source": [
    "def foo_function(a):\n",
    "    if a == 1:                 # +1 punto de complejidad\n",
    "        return a\n",
    "    return a + 1\n",
    "    \n",
    "def bar_function(a):\n",
    "    b = 0\n",
    "    if a > 1:                  # +1 punto de complejidad\n",
    "        for i in range(a):     # +2 punto de complejidad\n",
    "            b += 1\n",
    "    return b"
   ]
  },
  {
   "cell_type": "markdown",
   "id": "e6a0fa29-55c1-46ee-aa64-cddf71dd6c73",
   "metadata": {},
   "source": [
    "La función foo_function tiene nivel de complejidad 1, mientras que la función bar_function tiene nivel de complejidad 3.\n",
    "\n",
    "Como consejo de buenas prácticas, la complejidad de una función debe de mantenerse por debajo de 15 puntos. \n",
    "\n",
    "## Orden de una función\n",
    "\n",
    "Nos permiten estimar que tanto va a tardar una función en base al \"tamaño\" del problema a procesar."
   ]
  },
  {
   "cell_type": "code",
   "execution_count": 102,
   "id": "304763bc-8b21-45f0-8eb2-932eef2e077e",
   "metadata": {},
   "outputs": [],
   "source": [
    "def fibonacci(n):\n",
    "    if n < 0:               # O(1)\n",
    "        return None\n",
    "    if n in [0, 1]:         # O(1)\n",
    "        return n\n",
    "    x1 = fibonacci(n-1)     # O(2 ^ (n - 1))\n",
    "    x2 = fibonacci(n-2)     # O(2 ^ (n - 2))\n",
    "    return x1 + x2\n",
    "\n",
    "def fibonacci_iter(n):\n",
    "    if n < 0:                # O(1)\n",
    "        return None\n",
    "    if n in [0, 1]:          # O(1)\n",
    "        return n\n",
    "    x1 = 0                   # O(1)\n",
    "    x2 = 1                   # O(1)\n",
    "    for i in range(n-1):       # O(n - 1)\n",
    "        x3 = x1 + x2         # O(1)\n",
    "        x1, x2 = x2, x3      # O(1)\n",
    "    return x3"
   ]
  },
  {
   "cell_type": "markdown",
   "id": "13ca6cea-9a19-46c9-9072-32f11a9dfe08",
   "metadata": {},
   "source": [
    "Para la función `fibonacci`, debido a la recursividad nos da un O(2^n) mientras que `fibonacci_iter` tiene O(n)."
   ]
  },
  {
   "cell_type": "code",
   "execution_count": 112,
   "id": "caf1fabb-f951-4155-a01e-6f3dcb967632",
   "metadata": {
    "tags": []
   },
   "outputs": [
    {
     "name": "stdout",
     "output_type": "stream",
     "text": [
      "1134903170\n",
      "Wall time: 9min 6s\n"
     ]
    }
   ],
   "source": [
    "%%time\n",
    "print(fibonacci(45))"
   ]
  },
  {
   "cell_type": "code",
   "execution_count": 113,
   "id": "9ddefd45-7c0b-40b5-80eb-09ac3720ff87",
   "metadata": {},
   "outputs": [
    {
     "name": "stdout",
     "output_type": "stream",
     "text": [
      "Wall time: 1.02 ms\n"
     ]
    },
    {
     "data": {
      "text/plain": [
       "1134903170"
      ]
     },
     "execution_count": 113,
     "metadata": {},
     "output_type": "execute_result"
    }
   ],
   "source": [
    "%%time\n",
    "fibonacci_iter(45)"
   ]
  },
  {
   "cell_type": "markdown",
   "id": "39a607e5-f97f-416c-81e5-e40982cab0f6",
   "metadata": {},
   "source": [
    "## Espacios de nombre\n",
    "\n",
    "Los espacios de nombren definen donde existe una variable o función. "
   ]
  },
  {
   "cell_type": "code",
   "execution_count": 116,
   "id": "a0315c26-b973-4ab9-b3f0-4daca385222e",
   "metadata": {},
   "outputs": [
    {
     "name": "stdout",
     "output_type": "stream",
     "text": [
      "Variable_global: Soy omnipresente\n",
      "Variable_local: Yo solo existo en estas 3 lineas\n",
      "Variable_local no existe!\n"
     ]
    }
   ],
   "source": [
    "variable_global = \"Soy omnipresente\"\n",
    "\n",
    "def espacio_de_nombre():\n",
    "    print(f\"Variable_global: {variable_global}\")\n",
    "    variable_local = \"Yo solo existo en estas 3 lineas\"\n",
    "    print(f\"Variable_local: {variable_local}\")\n",
    "    \n",
    "espacio_de_nombre()\n",
    "    \n",
    "try:\n",
    "    print(f\"Variable_local: {variable_local}\")\n",
    "except NameError:\n",
    "    print(\"Variable_local no existe!\")"
   ]
  },
  {
   "cell_type": "code",
   "execution_count": null,
   "id": "6475df9b-8c12-4b25-86bb-7e54c54c5f85",
   "metadata": {},
   "outputs": [],
   "source": []
  }
 ],
 "metadata": {
  "kernelspec": {
   "display_name": "Python 3 (ipykernel)",
   "language": "python",
   "name": "python3"
  },
  "language_info": {
   "codemirror_mode": {
    "name": "ipython",
    "version": 3
   },
   "file_extension": ".py",
   "mimetype": "text/x-python",
   "name": "python",
   "nbconvert_exporter": "python",
   "pygments_lexer": "ipython3",
   "version": "3.9.7"
  }
 },
 "nbformat": 4,
 "nbformat_minor": 5
}
